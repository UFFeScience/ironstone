{
 "cells": [
  {
   "cell_type": "code",
   "execution_count": null,
   "id": "ed95fac8",
   "metadata": {},
   "outputs": [],
   "source": [
    "    #Import libraries\n",
    "    import urllib\n",
    "    import requests\n",
    "    from bs4 import BeautifulSoup\n",
    "    import requests\n",
    "    import pandas as pd\n",
    "    import time\n",
    "    import numpy as np\n",
    "    import math\n",
    "    import random\n",
    "    API_Key = \"Insert here your API Key\""
   ]
  },
  {
   "cell_type": "code",
   "execution_count": null,
   "id": "4ca06df2",
   "metadata": {},
   "outputs": [],
   "source": [
    "#Calculate the travel time in minutes between two points by considering the latitude and longitude of each point.\n",
    "def tempo_a_ate_b(lat_inicial, long_inicial, lat_final, long_final):\n",
    "    API_Key = API_Key\n",
    "    r = requests.get(\"https://api.tomtom.com/routing/1/calculateRoute/\"+str(lat_inicial)+\"%2C\"+str(long_inicial)+\"%3A\"+str(lat_final)+\"%2C\"+str(long_final)+\"/xml?avoid=unpavedRoads&key=\"+API_Key)\n",
    "    c = r.content\n",
    "    soup = BeautifulSoup(c)\n",
    "    a = soup.find_all('traveltimeinseconds')[0].get_text()\n",
    "    a = float(a)/60\n",
    "    return round(a,1)\n",
    "\n",
    "#Return the latitude of an address.\n",
    "def GeoCode_Lat(Endereco):\n",
    "    import urllib\n",
    "    import requests\n",
    "    from bs4 import BeautifulSoup\n",
    "    url = f\"https://api.tomtom.com/search/2/geocode/{Endereco}.json?storeResult=false&view=Unified&key={API_Key}\"\n",
    "    a = requests.get(url)\n",
    "    a = a.content\n",
    "    soup = BeautifulSoup(a) \n",
    "    rua = soup.get_text()\n",
    "    r = rua.split('\"')\n",
    "    if 'position' in r:\n",
    "        a = (r[r.index('position')+3])\n",
    "        return a[1:-1]\n",
    "    \n",
    "\n",
    "#Return the longitude of an address.\n",
    "def GeoCode_Lon(Endereco):\n",
    "    import urllib\n",
    "    import requests\n",
    "    from bs4 import BeautifulSoup\n",
    "    url = f\"https://api.tomtom.com/search/2/geocode/{Endereco}.json?storeResult=false&view=Unified&key={API_Key}\"\n",
    "    a = requests.get(url)\n",
    "    a = a.content\n",
    "    soup = BeautifulSoup(a) \n",
    "    rua = soup.get_text()\n",
    "    r = rua.split('\"')\n",
    "    if 'position' in r:\n",
    "        a = (r[r.index('position')+5])\n",
    "        return a[1:-2]"
   ]
  },
  {
   "cell_type": "code",
   "execution_count": null,
   "id": "2198d0b2",
   "metadata": {},
   "outputs": [],
   "source": [
    "#Retrieve the input data for the problem and store them in dataframes. Please, replace the paths\n",
    "df_carros = pd.read_excel(r'C:\\Users\\User\\Downloads\\Instancias V7_carros.xlsx')\n",
    "df_ocorrencias = pd.read_excel(r'C:\\Users\\User\\Downloads\\Instancias V7_ocorrencias.xlsx')\n",
    "df_atendimento = pd.read_excel(r'C:\\Users\\User\\Downloads\\Instancias V7_tempos.xlsx')\n",
    "df_disponibilidade = pd.read_excel(r'C:\\Users\\User\\Downloads\\Instancias V7_disponibilidade.xlsx')\n",
    "df = pd.read_excel(r'C:\\Users\\User\\Downloads\\Instancias V7.xlsx')\n",
    "df1 = df\n"
   ]
  },
  {
   "cell_type": "code",
   "execution_count": null,
   "id": "188b85a4",
   "metadata": {},
   "outputs": [],
   "source": [
    "#Calculate the travel time between the initial position of the cars and each service location. Return the Displacement Matrix.\n",
    "t0 = time.time()\n",
    "matriz =[]\n",
    "for i in range (0,len(df)):\n",
    "    lat_inicial = str(df['Lat'][i])\n",
    "    long_inicial = str(df['Lon'][i])\n",
    "    u1 = str(df['Unid'][i])\n",
    "    linha=[]\n",
    "    for j in range(0,len(df1['Unid'])):\n",
    "        lat_final =  str(df['Lat'][j])\n",
    "        long_final = str(df['Lon'][j])\n",
    "        u2 = str(df1['Unid'][j])\n",
    "        tempo = tempo_a_ate_b(lat_inicial, long_inicial, lat_final, long_final)\n",
    "        list.append(linha, tempo)\n",
    "    matriz = matriz + [linha]\n",
    "matriz_copy = matriz\n",
    "print(matriz)\n",
    "print('-'*30)\n",
    "tf = time.time()"
   ]
  },
  {
   "cell_type": "code",
   "execution_count": null,
   "id": "d81784ae",
   "metadata": {},
   "outputs": [],
   "source": []
  },
  {
   "cell_type": "code",
   "execution_count": null,
   "id": "1737ff90",
   "metadata": {},
   "outputs": [],
   "source": []
  }
 ],
 "metadata": {
  "kernelspec": {
   "display_name": "Python 3 (ipykernel)",
   "language": "python",
   "name": "python3"
  },
  "language_info": {
   "codemirror_mode": {
    "name": "ipython",
    "version": 3
   },
   "file_extension": ".py",
   "mimetype": "text/x-python",
   "name": "python",
   "nbconvert_exporter": "python",
   "pygments_lexer": "ipython3",
   "version": "3.9.7"
  }
 },
 "nbformat": 4,
 "nbformat_minor": 5
}
